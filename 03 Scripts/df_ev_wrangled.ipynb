{
 "cells": [
  {
   "cell_type": "markdown",
   "id": "f17b5d5e",
   "metadata": {},
   "source": [
    "# Washington State Electric Vehicle Population Data"
   ]
  },
  {
   "cell_type": "markdown",
   "id": "6b864970",
   "metadata": {},
   "source": [
    "## Data Cleaning & Wrangling"
   ]
  },
  {
   "cell_type": "markdown",
   "id": "5480350e",
   "metadata": {},
   "source": [
    "## This script will include:\n",
    "**01.Importing and exploring the data set\n",
    "\n",
    "**02.Data wrangling and consistency checks\n",
    "\n",
    "**03.Exporting the df to project profile\n"
   ]
  },
  {
   "cell_type": "markdown",
   "id": "4e7d80ef",
   "metadata": {},
   "source": [
    "## **01. Importing and checking the data set**"
   ]
  },
  {
   "cell_type": "code",
   "execution_count": 1,
   "id": "7c534a0e",
   "metadata": {},
   "outputs": [],
   "source": [
    "# Import Libraries\n",
    "\n",
    "import pandas as pd\n",
    "import numpy as np\n",
    "import os"
   ]
  },
  {
   "cell_type": "code",
   "execution_count": 2,
   "id": "349164e3",
   "metadata": {},
   "outputs": [],
   "source": [
    "df_ev = pd.read_csv('/Users/mitchellkubik/Desktop/12-2023 Final Project Analysis /02 Data/Original Data/Electric_Vehicle_Population_Data.csv')"
   ]
  },
  {
   "cell_type": "code",
   "execution_count": 3,
   "id": "f8a66e2a",
   "metadata": {},
   "outputs": [
    {
     "data": {
      "text/html": [
       "<div>\n",
       "<style scoped>\n",
       "    .dataframe tbody tr th:only-of-type {\n",
       "        vertical-align: middle;\n",
       "    }\n",
       "\n",
       "    .dataframe tbody tr th {\n",
       "        vertical-align: top;\n",
       "    }\n",
       "\n",
       "    .dataframe thead th {\n",
       "        text-align: right;\n",
       "    }\n",
       "</style>\n",
       "<table border=\"1\" class=\"dataframe\">\n",
       "  <thead>\n",
       "    <tr style=\"text-align: right;\">\n",
       "      <th></th>\n",
       "      <th>VIN (1-10)</th>\n",
       "      <th>County</th>\n",
       "      <th>City</th>\n",
       "      <th>State</th>\n",
       "      <th>Postal Code</th>\n",
       "      <th>Model Year</th>\n",
       "      <th>Make</th>\n",
       "      <th>Model</th>\n",
       "      <th>Electric Vehicle Type</th>\n",
       "      <th>Clean Alternative Fuel Vehicle (CAFV) Eligibility</th>\n",
       "      <th>Electric Range</th>\n",
       "      <th>Base MSRP</th>\n",
       "      <th>Legislative District</th>\n",
       "      <th>DOL Vehicle ID</th>\n",
       "      <th>Vehicle Location</th>\n",
       "      <th>Electric Utility</th>\n",
       "      <th>2020 Census Tract</th>\n",
       "    </tr>\n",
       "  </thead>\n",
       "  <tbody>\n",
       "    <tr>\n",
       "      <th>0</th>\n",
       "      <td>2C4RC1N71H</td>\n",
       "      <td>Kitsap</td>\n",
       "      <td>Bremerton</td>\n",
       "      <td>WA</td>\n",
       "      <td>98311.0</td>\n",
       "      <td>2017</td>\n",
       "      <td>CHRYSLER</td>\n",
       "      <td>PACIFICA</td>\n",
       "      <td>Plug-in Hybrid Electric Vehicle (PHEV)</td>\n",
       "      <td>Clean Alternative Fuel Vehicle Eligible</td>\n",
       "      <td>33</td>\n",
       "      <td>0</td>\n",
       "      <td>23.0</td>\n",
       "      <td>349437882</td>\n",
       "      <td>POINT (-122.6466274 47.6341188)</td>\n",
       "      <td>PUGET SOUND ENERGY INC</td>\n",
       "      <td>5.303509e+10</td>\n",
       "    </tr>\n",
       "    <tr>\n",
       "      <th>1</th>\n",
       "      <td>2C4RC1N7XL</td>\n",
       "      <td>Stevens</td>\n",
       "      <td>Colville</td>\n",
       "      <td>WA</td>\n",
       "      <td>99114.0</td>\n",
       "      <td>2020</td>\n",
       "      <td>CHRYSLER</td>\n",
       "      <td>PACIFICA</td>\n",
       "      <td>Plug-in Hybrid Electric Vehicle (PHEV)</td>\n",
       "      <td>Clean Alternative Fuel Vehicle Eligible</td>\n",
       "      <td>32</td>\n",
       "      <td>0</td>\n",
       "      <td>7.0</td>\n",
       "      <td>154690532</td>\n",
       "      <td>POINT (-117.90431 48.547075)</td>\n",
       "      <td>AVISTA CORP</td>\n",
       "      <td>5.306595e+10</td>\n",
       "    </tr>\n",
       "    <tr>\n",
       "      <th>2</th>\n",
       "      <td>KNDC3DLCXN</td>\n",
       "      <td>Yakima</td>\n",
       "      <td>Yakima</td>\n",
       "      <td>WA</td>\n",
       "      <td>98908.0</td>\n",
       "      <td>2022</td>\n",
       "      <td>KIA</td>\n",
       "      <td>EV6</td>\n",
       "      <td>Battery Electric Vehicle (BEV)</td>\n",
       "      <td>Eligibility unknown as battery range has not b...</td>\n",
       "      <td>0</td>\n",
       "      <td>0</td>\n",
       "      <td>14.0</td>\n",
       "      <td>219969144</td>\n",
       "      <td>POINT (-120.6027202 46.5965625)</td>\n",
       "      <td>PACIFICORP</td>\n",
       "      <td>5.307700e+10</td>\n",
       "    </tr>\n",
       "    <tr>\n",
       "      <th>3</th>\n",
       "      <td>5YJ3E1EA0J</td>\n",
       "      <td>Kitsap</td>\n",
       "      <td>Bainbridge Island</td>\n",
       "      <td>WA</td>\n",
       "      <td>98110.0</td>\n",
       "      <td>2018</td>\n",
       "      <td>TESLA</td>\n",
       "      <td>MODEL 3</td>\n",
       "      <td>Battery Electric Vehicle (BEV)</td>\n",
       "      <td>Clean Alternative Fuel Vehicle Eligible</td>\n",
       "      <td>215</td>\n",
       "      <td>0</td>\n",
       "      <td>23.0</td>\n",
       "      <td>476786887</td>\n",
       "      <td>POINT (-122.5235781 47.6293323)</td>\n",
       "      <td>PUGET SOUND ENERGY INC</td>\n",
       "      <td>5.303509e+10</td>\n",
       "    </tr>\n",
       "    <tr>\n",
       "      <th>4</th>\n",
       "      <td>1N4AZ1CP7J</td>\n",
       "      <td>Thurston</td>\n",
       "      <td>Tumwater</td>\n",
       "      <td>WA</td>\n",
       "      <td>98501.0</td>\n",
       "      <td>2018</td>\n",
       "      <td>NISSAN</td>\n",
       "      <td>LEAF</td>\n",
       "      <td>Battery Electric Vehicle (BEV)</td>\n",
       "      <td>Clean Alternative Fuel Vehicle Eligible</td>\n",
       "      <td>151</td>\n",
       "      <td>0</td>\n",
       "      <td>35.0</td>\n",
       "      <td>201185253</td>\n",
       "      <td>POINT (-122.89692 47.043535)</td>\n",
       "      <td>PUGET SOUND ENERGY INC</td>\n",
       "      <td>5.306701e+10</td>\n",
       "    </tr>\n",
       "    <tr>\n",
       "      <th>...</th>\n",
       "      <td>...</td>\n",
       "      <td>...</td>\n",
       "      <td>...</td>\n",
       "      <td>...</td>\n",
       "      <td>...</td>\n",
       "      <td>...</td>\n",
       "      <td>...</td>\n",
       "      <td>...</td>\n",
       "      <td>...</td>\n",
       "      <td>...</td>\n",
       "      <td>...</td>\n",
       "      <td>...</td>\n",
       "      <td>...</td>\n",
       "      <td>...</td>\n",
       "      <td>...</td>\n",
       "      <td>...</td>\n",
       "      <td>...</td>\n",
       "    </tr>\n",
       "    <tr>\n",
       "      <th>159462</th>\n",
       "      <td>KM8JBDA2XP</td>\n",
       "      <td>Skamania</td>\n",
       "      <td>Underwood</td>\n",
       "      <td>WA</td>\n",
       "      <td>98651.0</td>\n",
       "      <td>2023</td>\n",
       "      <td>HYUNDAI</td>\n",
       "      <td>TUCSON</td>\n",
       "      <td>Plug-in Hybrid Electric Vehicle (PHEV)</td>\n",
       "      <td>Clean Alternative Fuel Vehicle Eligible</td>\n",
       "      <td>33</td>\n",
       "      <td>0</td>\n",
       "      <td>14.0</td>\n",
       "      <td>235949514</td>\n",
       "      <td>POINT (-121.5312858 45.7348285)</td>\n",
       "      <td>BONNEVILLE POWER ADMINISTRATION||PUD NO 1 OF S...</td>\n",
       "      <td>5.305995e+10</td>\n",
       "    </tr>\n",
       "    <tr>\n",
       "      <th>159463</th>\n",
       "      <td>1G1FZ6S02M</td>\n",
       "      <td>Skagit</td>\n",
       "      <td>Bow</td>\n",
       "      <td>WA</td>\n",
       "      <td>98232.0</td>\n",
       "      <td>2021</td>\n",
       "      <td>CHEVROLET</td>\n",
       "      <td>BOLT EV</td>\n",
       "      <td>Battery Electric Vehicle (BEV)</td>\n",
       "      <td>Eligibility unknown as battery range has not b...</td>\n",
       "      <td>0</td>\n",
       "      <td>0</td>\n",
       "      <td>40.0</td>\n",
       "      <td>148544168</td>\n",
       "      <td>POINT (-122.440636 48.5613885)</td>\n",
       "      <td>PUGET SOUND ENERGY INC</td>\n",
       "      <td>5.305795e+10</td>\n",
       "    </tr>\n",
       "    <tr>\n",
       "      <th>159464</th>\n",
       "      <td>YV4H60CX2P</td>\n",
       "      <td>King</td>\n",
       "      <td>Sammamish</td>\n",
       "      <td>WA</td>\n",
       "      <td>98029.0</td>\n",
       "      <td>2023</td>\n",
       "      <td>VOLVO</td>\n",
       "      <td>XC90</td>\n",
       "      <td>Plug-in Hybrid Electric Vehicle (PHEV)</td>\n",
       "      <td>Clean Alternative Fuel Vehicle Eligible</td>\n",
       "      <td>32</td>\n",
       "      <td>0</td>\n",
       "      <td>5.0</td>\n",
       "      <td>240200754</td>\n",
       "      <td>POINT (-121.9993659 47.5484866)</td>\n",
       "      <td>PUGET SOUND ENERGY INC||CITY OF TACOMA - (WA)</td>\n",
       "      <td>5.303303e+10</td>\n",
       "    </tr>\n",
       "    <tr>\n",
       "      <th>159465</th>\n",
       "      <td>5YJ3E1EA7K</td>\n",
       "      <td>Whatcom</td>\n",
       "      <td>Bellingham</td>\n",
       "      <td>WA</td>\n",
       "      <td>98225.0</td>\n",
       "      <td>2019</td>\n",
       "      <td>TESLA</td>\n",
       "      <td>MODEL 3</td>\n",
       "      <td>Battery Electric Vehicle (BEV)</td>\n",
       "      <td>Clean Alternative Fuel Vehicle Eligible</td>\n",
       "      <td>220</td>\n",
       "      <td>0</td>\n",
       "      <td>40.0</td>\n",
       "      <td>156680590</td>\n",
       "      <td>POINT (-122.486115 48.761615)</td>\n",
       "      <td>PUGET SOUND ENERGY INC||PUD NO 1 OF WHATCOM CO...</td>\n",
       "      <td>5.307300e+10</td>\n",
       "    </tr>\n",
       "    <tr>\n",
       "      <th>159466</th>\n",
       "      <td>7SAYGDEF6N</td>\n",
       "      <td>Island</td>\n",
       "      <td>Camano Island</td>\n",
       "      <td>WA</td>\n",
       "      <td>98282.0</td>\n",
       "      <td>2022</td>\n",
       "      <td>TESLA</td>\n",
       "      <td>MODEL Y</td>\n",
       "      <td>Battery Electric Vehicle (BEV)</td>\n",
       "      <td>Eligibility unknown as battery range has not b...</td>\n",
       "      <td>0</td>\n",
       "      <td>0</td>\n",
       "      <td>10.0</td>\n",
       "      <td>208285619</td>\n",
       "      <td>POINT (-122.5310901 48.2192797)</td>\n",
       "      <td>BONNEVILLE POWER ADMINISTRATION||PUD 1 OF SNOH...</td>\n",
       "      <td>5.302997e+10</td>\n",
       "    </tr>\n",
       "  </tbody>\n",
       "</table>\n",
       "<p>159467 rows × 17 columns</p>\n",
       "</div>"
      ],
      "text/plain": [
       "        VIN (1-10)    County               City State  Postal Code  \\\n",
       "0       2C4RC1N71H    Kitsap          Bremerton    WA      98311.0   \n",
       "1       2C4RC1N7XL   Stevens           Colville    WA      99114.0   \n",
       "2       KNDC3DLCXN    Yakima             Yakima    WA      98908.0   \n",
       "3       5YJ3E1EA0J    Kitsap  Bainbridge Island    WA      98110.0   \n",
       "4       1N4AZ1CP7J  Thurston           Tumwater    WA      98501.0   \n",
       "...            ...       ...                ...   ...          ...   \n",
       "159462  KM8JBDA2XP  Skamania          Underwood    WA      98651.0   \n",
       "159463  1G1FZ6S02M    Skagit                Bow    WA      98232.0   \n",
       "159464  YV4H60CX2P      King          Sammamish    WA      98029.0   \n",
       "159465  5YJ3E1EA7K   Whatcom         Bellingham    WA      98225.0   \n",
       "159466  7SAYGDEF6N    Island      Camano Island    WA      98282.0   \n",
       "\n",
       "        Model Year       Make     Model  \\\n",
       "0             2017   CHRYSLER  PACIFICA   \n",
       "1             2020   CHRYSLER  PACIFICA   \n",
       "2             2022        KIA       EV6   \n",
       "3             2018      TESLA   MODEL 3   \n",
       "4             2018     NISSAN      LEAF   \n",
       "...            ...        ...       ...   \n",
       "159462        2023    HYUNDAI    TUCSON   \n",
       "159463        2021  CHEVROLET   BOLT EV   \n",
       "159464        2023      VOLVO      XC90   \n",
       "159465        2019      TESLA   MODEL 3   \n",
       "159466        2022      TESLA   MODEL Y   \n",
       "\n",
       "                         Electric Vehicle Type  \\\n",
       "0       Plug-in Hybrid Electric Vehicle (PHEV)   \n",
       "1       Plug-in Hybrid Electric Vehicle (PHEV)   \n",
       "2               Battery Electric Vehicle (BEV)   \n",
       "3               Battery Electric Vehicle (BEV)   \n",
       "4               Battery Electric Vehicle (BEV)   \n",
       "...                                        ...   \n",
       "159462  Plug-in Hybrid Electric Vehicle (PHEV)   \n",
       "159463          Battery Electric Vehicle (BEV)   \n",
       "159464  Plug-in Hybrid Electric Vehicle (PHEV)   \n",
       "159465          Battery Electric Vehicle (BEV)   \n",
       "159466          Battery Electric Vehicle (BEV)   \n",
       "\n",
       "        Clean Alternative Fuel Vehicle (CAFV) Eligibility  Electric Range  \\\n",
       "0                 Clean Alternative Fuel Vehicle Eligible              33   \n",
       "1                 Clean Alternative Fuel Vehicle Eligible              32   \n",
       "2       Eligibility unknown as battery range has not b...               0   \n",
       "3                 Clean Alternative Fuel Vehicle Eligible             215   \n",
       "4                 Clean Alternative Fuel Vehicle Eligible             151   \n",
       "...                                                   ...             ...   \n",
       "159462            Clean Alternative Fuel Vehicle Eligible              33   \n",
       "159463  Eligibility unknown as battery range has not b...               0   \n",
       "159464            Clean Alternative Fuel Vehicle Eligible              32   \n",
       "159465            Clean Alternative Fuel Vehicle Eligible             220   \n",
       "159466  Eligibility unknown as battery range has not b...               0   \n",
       "\n",
       "        Base MSRP  Legislative District  DOL Vehicle ID  \\\n",
       "0               0                  23.0       349437882   \n",
       "1               0                   7.0       154690532   \n",
       "2               0                  14.0       219969144   \n",
       "3               0                  23.0       476786887   \n",
       "4               0                  35.0       201185253   \n",
       "...           ...                   ...             ...   \n",
       "159462          0                  14.0       235949514   \n",
       "159463          0                  40.0       148544168   \n",
       "159464          0                   5.0       240200754   \n",
       "159465          0                  40.0       156680590   \n",
       "159466          0                  10.0       208285619   \n",
       "\n",
       "                       Vehicle Location  \\\n",
       "0       POINT (-122.6466274 47.6341188)   \n",
       "1          POINT (-117.90431 48.547075)   \n",
       "2       POINT (-120.6027202 46.5965625)   \n",
       "3       POINT (-122.5235781 47.6293323)   \n",
       "4          POINT (-122.89692 47.043535)   \n",
       "...                                 ...   \n",
       "159462  POINT (-121.5312858 45.7348285)   \n",
       "159463   POINT (-122.440636 48.5613885)   \n",
       "159464  POINT (-121.9993659 47.5484866)   \n",
       "159465    POINT (-122.486115 48.761615)   \n",
       "159466  POINT (-122.5310901 48.2192797)   \n",
       "\n",
       "                                         Electric Utility  2020 Census Tract  \n",
       "0                                  PUGET SOUND ENERGY INC       5.303509e+10  \n",
       "1                                             AVISTA CORP       5.306595e+10  \n",
       "2                                              PACIFICORP       5.307700e+10  \n",
       "3                                  PUGET SOUND ENERGY INC       5.303509e+10  \n",
       "4                                  PUGET SOUND ENERGY INC       5.306701e+10  \n",
       "...                                                   ...                ...  \n",
       "159462  BONNEVILLE POWER ADMINISTRATION||PUD NO 1 OF S...       5.305995e+10  \n",
       "159463                             PUGET SOUND ENERGY INC       5.305795e+10  \n",
       "159464      PUGET SOUND ENERGY INC||CITY OF TACOMA - (WA)       5.303303e+10  \n",
       "159465  PUGET SOUND ENERGY INC||PUD NO 1 OF WHATCOM CO...       5.307300e+10  \n",
       "159466  BONNEVILLE POWER ADMINISTRATION||PUD 1 OF SNOH...       5.302997e+10  \n",
       "\n",
       "[159467 rows x 17 columns]"
      ]
     },
     "execution_count": 3,
     "metadata": {},
     "output_type": "execute_result"
    }
   ],
   "source": [
    "# Exploratory Analysis\n",
    "\n",
    "df_ev"
   ]
  },
  {
   "cell_type": "code",
   "execution_count": 4,
   "id": "1254af37",
   "metadata": {},
   "outputs": [
    {
     "data": {
      "text/html": [
       "<div>\n",
       "<style scoped>\n",
       "    .dataframe tbody tr th:only-of-type {\n",
       "        vertical-align: middle;\n",
       "    }\n",
       "\n",
       "    .dataframe tbody tr th {\n",
       "        vertical-align: top;\n",
       "    }\n",
       "\n",
       "    .dataframe thead th {\n",
       "        text-align: right;\n",
       "    }\n",
       "</style>\n",
       "<table border=\"1\" class=\"dataframe\">\n",
       "  <thead>\n",
       "    <tr style=\"text-align: right;\">\n",
       "      <th></th>\n",
       "      <th>Postal Code</th>\n",
       "      <th>Model Year</th>\n",
       "      <th>Electric Range</th>\n",
       "      <th>Base MSRP</th>\n",
       "      <th>Legislative District</th>\n",
       "      <th>DOL Vehicle ID</th>\n",
       "      <th>2020 Census Tract</th>\n",
       "    </tr>\n",
       "  </thead>\n",
       "  <tbody>\n",
       "    <tr>\n",
       "      <th>count</th>\n",
       "      <td>159463.000000</td>\n",
       "      <td>159467.000000</td>\n",
       "      <td>159467.000000</td>\n",
       "      <td>159467.00000</td>\n",
       "      <td>159106.000000</td>\n",
       "      <td>1.594670e+05</td>\n",
       "      <td>1.594630e+05</td>\n",
       "    </tr>\n",
       "    <tr>\n",
       "      <th>mean</th>\n",
       "      <td>98170.373635</td>\n",
       "      <td>2020.192510</td>\n",
       "      <td>64.283319</td>\n",
       "      <td>1227.63716</td>\n",
       "      <td>29.261675</td>\n",
       "      <td>2.140242e+08</td>\n",
       "      <td>5.297287e+10</td>\n",
       "    </tr>\n",
       "    <tr>\n",
       "      <th>std</th>\n",
       "      <td>2453.354932</td>\n",
       "      <td>3.010564</td>\n",
       "      <td>94.634277</td>\n",
       "      <td>8930.03468</td>\n",
       "      <td>14.843878</td>\n",
       "      <td>7.959275e+07</td>\n",
       "      <td>1.621526e+09</td>\n",
       "    </tr>\n",
       "    <tr>\n",
       "      <th>min</th>\n",
       "      <td>1730.000000</td>\n",
       "      <td>1997.000000</td>\n",
       "      <td>0.000000</td>\n",
       "      <td>0.00000</td>\n",
       "      <td>1.000000</td>\n",
       "      <td>4.385000e+03</td>\n",
       "      <td>1.081042e+09</td>\n",
       "    </tr>\n",
       "    <tr>\n",
       "      <th>25%</th>\n",
       "      <td>98052.000000</td>\n",
       "      <td>2018.000000</td>\n",
       "      <td>0.000000</td>\n",
       "      <td>0.00000</td>\n",
       "      <td>18.000000</td>\n",
       "      <td>1.731016e+08</td>\n",
       "      <td>5.303301e+10</td>\n",
       "    </tr>\n",
       "    <tr>\n",
       "      <th>50%</th>\n",
       "      <td>98122.000000</td>\n",
       "      <td>2021.000000</td>\n",
       "      <td>14.000000</td>\n",
       "      <td>0.00000</td>\n",
       "      <td>33.000000</td>\n",
       "      <td>2.198450e+08</td>\n",
       "      <td>5.303303e+10</td>\n",
       "    </tr>\n",
       "    <tr>\n",
       "      <th>75%</th>\n",
       "      <td>98370.000000</td>\n",
       "      <td>2023.000000</td>\n",
       "      <td>84.000000</td>\n",
       "      <td>0.00000</td>\n",
       "      <td>43.000000</td>\n",
       "      <td>2.448363e+08</td>\n",
       "      <td>5.305307e+10</td>\n",
       "    </tr>\n",
       "    <tr>\n",
       "      <th>max</th>\n",
       "      <td>99577.000000</td>\n",
       "      <td>2024.000000</td>\n",
       "      <td>337.000000</td>\n",
       "      <td>845000.00000</td>\n",
       "      <td>49.000000</td>\n",
       "      <td>4.792548e+08</td>\n",
       "      <td>5.603300e+10</td>\n",
       "    </tr>\n",
       "  </tbody>\n",
       "</table>\n",
       "</div>"
      ],
      "text/plain": [
       "         Postal Code     Model Year  Electric Range     Base MSRP  \\\n",
       "count  159463.000000  159467.000000   159467.000000  159467.00000   \n",
       "mean    98170.373635    2020.192510       64.283319    1227.63716   \n",
       "std      2453.354932       3.010564       94.634277    8930.03468   \n",
       "min      1730.000000    1997.000000        0.000000       0.00000   \n",
       "25%     98052.000000    2018.000000        0.000000       0.00000   \n",
       "50%     98122.000000    2021.000000       14.000000       0.00000   \n",
       "75%     98370.000000    2023.000000       84.000000       0.00000   \n",
       "max     99577.000000    2024.000000      337.000000  845000.00000   \n",
       "\n",
       "       Legislative District  DOL Vehicle ID  2020 Census Tract  \n",
       "count         159106.000000    1.594670e+05       1.594630e+05  \n",
       "mean              29.261675    2.140242e+08       5.297287e+10  \n",
       "std               14.843878    7.959275e+07       1.621526e+09  \n",
       "min                1.000000    4.385000e+03       1.081042e+09  \n",
       "25%               18.000000    1.731016e+08       5.303301e+10  \n",
       "50%               33.000000    2.198450e+08       5.303303e+10  \n",
       "75%               43.000000    2.448363e+08       5.305307e+10  \n",
       "max               49.000000    4.792548e+08       5.603300e+10  "
      ]
     },
     "execution_count": 4,
     "metadata": {},
     "output_type": "execute_result"
    }
   ],
   "source": [
    "df_ev.describe()"
   ]
  },
  {
   "cell_type": "code",
   "execution_count": 5,
   "id": "434516ba",
   "metadata": {
    "scrolled": true
   },
   "outputs": [
    {
     "data": {
      "text/plain": [
       "King         83413\n",
       "Snohomish    18544\n",
       "Pierce       12315\n",
       "Clark         9370\n",
       "Thurston      5711\n",
       "             ...  \n",
       "Vernon           1\n",
       "Parker           1\n",
       "Meade            1\n",
       "El Dorado        1\n",
       "Oldham           1\n",
       "Name: County, Length: 185, dtype: int64"
      ]
     },
     "execution_count": 5,
     "metadata": {},
     "output_type": "execute_result"
    }
   ],
   "source": [
    "df_ev['County'].value_counts(dropna = False)"
   ]
  },
  {
   "cell_type": "markdown",
   "id": "3b97d3fb",
   "metadata": {},
   "source": [
    "## **02. Data wrangling and consistency checks**"
   ]
  },
  {
   "cell_type": "code",
   "execution_count": 6,
   "id": "1f235c0c",
   "metadata": {
    "scrolled": true
   },
   "outputs": [],
   "source": [
    "# Drop legislative_district as it is a redundant geographical value for the purposes of this analysis.\n",
    "df_ev = df_ev.drop(columns = ['Legislative District'])"
   ]
  },
  {
   "cell_type": "code",
   "execution_count": 7,
   "id": "0484866f",
   "metadata": {},
   "outputs": [
    {
     "data": {
      "text/plain": [
       "VIN (1-10)                                           0\n",
       "County                                               4\n",
       "City                                                 4\n",
       "State                                                0\n",
       "Postal Code                                          4\n",
       "Model Year                                           0\n",
       "Make                                                 0\n",
       "Model                                                0\n",
       "Electric Vehicle Type                                0\n",
       "Clean Alternative Fuel Vehicle (CAFV) Eligibility    0\n",
       "Electric Range                                       0\n",
       "Base MSRP                                            0\n",
       "DOL Vehicle ID                                       0\n",
       "Vehicle Location                                     9\n",
       "Electric Utility                                     4\n",
       "2020 Census Tract                                    4\n",
       "dtype: int64"
      ]
     },
     "execution_count": 7,
     "metadata": {},
     "output_type": "execute_result"
    }
   ],
   "source": [
    "df_ev.isnull().sum()"
   ]
  },
  {
   "cell_type": "code",
   "execution_count": 8,
   "id": "ecf21317",
   "metadata": {},
   "outputs": [],
   "source": [
    "# Rename Columns \n",
    "df_ev.rename(columns = {'VIN (1-10)' : 'vin'}, inplace = True)"
   ]
  },
  {
   "cell_type": "code",
   "execution_count": 9,
   "id": "a00eb33e",
   "metadata": {},
   "outputs": [],
   "source": [
    "df_ev.rename(columns = {'County' : 'county'}, inplace = True)"
   ]
  },
  {
   "cell_type": "code",
   "execution_count": 10,
   "id": "15a6505b",
   "metadata": {},
   "outputs": [],
   "source": [
    "df_ev.rename(columns = {'City' : 'city'}, inplace = True)"
   ]
  },
  {
   "cell_type": "code",
   "execution_count": 11,
   "id": "a19a6d70",
   "metadata": {},
   "outputs": [],
   "source": [
    "df_ev.rename(columns = {'State' : 'state'}, inplace = True)"
   ]
  },
  {
   "cell_type": "code",
   "execution_count": 12,
   "id": "a7078d64",
   "metadata": {},
   "outputs": [],
   "source": [
    "df_ev.rename(columns = {'Postal Code' : 'postal_code'}, inplace = True)"
   ]
  },
  {
   "cell_type": "code",
   "execution_count": 13,
   "id": "474d7851",
   "metadata": {},
   "outputs": [],
   "source": [
    "df_ev.rename(columns = {'Model Year' : 'year'}, inplace = True)"
   ]
  },
  {
   "cell_type": "code",
   "execution_count": 14,
   "id": "588f6d55",
   "metadata": {},
   "outputs": [],
   "source": [
    "df_ev.rename(columns = {'Make' : 'make'}, inplace = True)"
   ]
  },
  {
   "cell_type": "code",
   "execution_count": 15,
   "id": "c371a4b5",
   "metadata": {},
   "outputs": [],
   "source": [
    "df_ev.rename(columns = {'Model' : 'model'}, inplace = True)"
   ]
  },
  {
   "cell_type": "code",
   "execution_count": 16,
   "id": "d961edd6",
   "metadata": {},
   "outputs": [],
   "source": [
    "df_ev.rename(columns = {'Electric Vehicle Type' : 'ev_type'}, inplace = True)"
   ]
  },
  {
   "cell_type": "code",
   "execution_count": 17,
   "id": "2c3080d9",
   "metadata": {},
   "outputs": [],
   "source": [
    "df_ev.rename(columns = {'Clean Alternative Fuel Vehicle (CAFV) Eligibility' : 'cafv_eligibility'}, inplace = True)"
   ]
  },
  {
   "cell_type": "code",
   "execution_count": 18,
   "id": "b0c8625d",
   "metadata": {},
   "outputs": [],
   "source": [
    "df_ev.rename(columns = {'Electric Range' : 'electric_range'}, inplace = True)"
   ]
  },
  {
   "cell_type": "code",
   "execution_count": 19,
   "id": "00eb1b18",
   "metadata": {},
   "outputs": [],
   "source": [
    "df_ev.rename(columns = {'Base MSRP' : 'base_msrp'}, inplace = True)"
   ]
  },
  {
   "cell_type": "code",
   "execution_count": 20,
   "id": "47161ac5",
   "metadata": {},
   "outputs": [],
   "source": [
    "df_ev.rename(columns = {'DOL Vehicle ID' : 'dol_v_id'}, inplace = True)"
   ]
  },
  {
   "cell_type": "code",
   "execution_count": 21,
   "id": "30cb02a6",
   "metadata": {},
   "outputs": [],
   "source": [
    "df_ev.rename(columns = {'Vehicle Location' : 'v_location'}, inplace = True)"
   ]
  },
  {
   "cell_type": "code",
   "execution_count": 22,
   "id": "33002f40",
   "metadata": {},
   "outputs": [],
   "source": [
    "df_ev.rename(columns = {'Electric Utility' : 'electric_utility'}, inplace = True)"
   ]
  },
  {
   "cell_type": "code",
   "execution_count": 23,
   "id": "b4a54eee",
   "metadata": {},
   "outputs": [],
   "source": [
    "df_ev.rename(columns = {'2020 Census Tract' : '2020_census_tract'}, inplace = True)"
   ]
  },
  {
   "cell_type": "code",
   "execution_count": 24,
   "id": "82ba1b8c",
   "metadata": {
    "scrolled": true
   },
   "outputs": [
    {
     "data": {
      "text/html": [
       "<div>\n",
       "<style scoped>\n",
       "    .dataframe tbody tr th:only-of-type {\n",
       "        vertical-align: middle;\n",
       "    }\n",
       "\n",
       "    .dataframe tbody tr th {\n",
       "        vertical-align: top;\n",
       "    }\n",
       "\n",
       "    .dataframe thead th {\n",
       "        text-align: right;\n",
       "    }\n",
       "</style>\n",
       "<table border=\"1\" class=\"dataframe\">\n",
       "  <thead>\n",
       "    <tr style=\"text-align: right;\">\n",
       "      <th></th>\n",
       "      <th>vin</th>\n",
       "      <th>county</th>\n",
       "      <th>city</th>\n",
       "      <th>state</th>\n",
       "      <th>postal_code</th>\n",
       "      <th>year</th>\n",
       "      <th>make</th>\n",
       "      <th>model</th>\n",
       "      <th>ev_type</th>\n",
       "      <th>cafv_eligibility</th>\n",
       "      <th>electric_range</th>\n",
       "      <th>base_msrp</th>\n",
       "      <th>dol_v_id</th>\n",
       "      <th>v_location</th>\n",
       "      <th>electric_utility</th>\n",
       "      <th>2020_census_tract</th>\n",
       "    </tr>\n",
       "  </thead>\n",
       "  <tbody>\n",
       "    <tr>\n",
       "      <th>0</th>\n",
       "      <td>2C4RC1N71H</td>\n",
       "      <td>Kitsap</td>\n",
       "      <td>Bremerton</td>\n",
       "      <td>WA</td>\n",
       "      <td>98311.0</td>\n",
       "      <td>2017</td>\n",
       "      <td>CHRYSLER</td>\n",
       "      <td>PACIFICA</td>\n",
       "      <td>Plug-in Hybrid Electric Vehicle (PHEV)</td>\n",
       "      <td>Clean Alternative Fuel Vehicle Eligible</td>\n",
       "      <td>33</td>\n",
       "      <td>0</td>\n",
       "      <td>349437882</td>\n",
       "      <td>POINT (-122.6466274 47.6341188)</td>\n",
       "      <td>PUGET SOUND ENERGY INC</td>\n",
       "      <td>5.303509e+10</td>\n",
       "    </tr>\n",
       "    <tr>\n",
       "      <th>1</th>\n",
       "      <td>2C4RC1N7XL</td>\n",
       "      <td>Stevens</td>\n",
       "      <td>Colville</td>\n",
       "      <td>WA</td>\n",
       "      <td>99114.0</td>\n",
       "      <td>2020</td>\n",
       "      <td>CHRYSLER</td>\n",
       "      <td>PACIFICA</td>\n",
       "      <td>Plug-in Hybrid Electric Vehicle (PHEV)</td>\n",
       "      <td>Clean Alternative Fuel Vehicle Eligible</td>\n",
       "      <td>32</td>\n",
       "      <td>0</td>\n",
       "      <td>154690532</td>\n",
       "      <td>POINT (-117.90431 48.547075)</td>\n",
       "      <td>AVISTA CORP</td>\n",
       "      <td>5.306595e+10</td>\n",
       "    </tr>\n",
       "    <tr>\n",
       "      <th>2</th>\n",
       "      <td>KNDC3DLCXN</td>\n",
       "      <td>Yakima</td>\n",
       "      <td>Yakima</td>\n",
       "      <td>WA</td>\n",
       "      <td>98908.0</td>\n",
       "      <td>2022</td>\n",
       "      <td>KIA</td>\n",
       "      <td>EV6</td>\n",
       "      <td>Battery Electric Vehicle (BEV)</td>\n",
       "      <td>Eligibility unknown as battery range has not b...</td>\n",
       "      <td>0</td>\n",
       "      <td>0</td>\n",
       "      <td>219969144</td>\n",
       "      <td>POINT (-120.6027202 46.5965625)</td>\n",
       "      <td>PACIFICORP</td>\n",
       "      <td>5.307700e+10</td>\n",
       "    </tr>\n",
       "    <tr>\n",
       "      <th>3</th>\n",
       "      <td>5YJ3E1EA0J</td>\n",
       "      <td>Kitsap</td>\n",
       "      <td>Bainbridge Island</td>\n",
       "      <td>WA</td>\n",
       "      <td>98110.0</td>\n",
       "      <td>2018</td>\n",
       "      <td>TESLA</td>\n",
       "      <td>MODEL 3</td>\n",
       "      <td>Battery Electric Vehicle (BEV)</td>\n",
       "      <td>Clean Alternative Fuel Vehicle Eligible</td>\n",
       "      <td>215</td>\n",
       "      <td>0</td>\n",
       "      <td>476786887</td>\n",
       "      <td>POINT (-122.5235781 47.6293323)</td>\n",
       "      <td>PUGET SOUND ENERGY INC</td>\n",
       "      <td>5.303509e+10</td>\n",
       "    </tr>\n",
       "    <tr>\n",
       "      <th>4</th>\n",
       "      <td>1N4AZ1CP7J</td>\n",
       "      <td>Thurston</td>\n",
       "      <td>Tumwater</td>\n",
       "      <td>WA</td>\n",
       "      <td>98501.0</td>\n",
       "      <td>2018</td>\n",
       "      <td>NISSAN</td>\n",
       "      <td>LEAF</td>\n",
       "      <td>Battery Electric Vehicle (BEV)</td>\n",
       "      <td>Clean Alternative Fuel Vehicle Eligible</td>\n",
       "      <td>151</td>\n",
       "      <td>0</td>\n",
       "      <td>201185253</td>\n",
       "      <td>POINT (-122.89692 47.043535)</td>\n",
       "      <td>PUGET SOUND ENERGY INC</td>\n",
       "      <td>5.306701e+10</td>\n",
       "    </tr>\n",
       "  </tbody>\n",
       "</table>\n",
       "</div>"
      ],
      "text/plain": [
       "          vin    county               city state  postal_code  year      make  \\\n",
       "0  2C4RC1N71H    Kitsap          Bremerton    WA      98311.0  2017  CHRYSLER   \n",
       "1  2C4RC1N7XL   Stevens           Colville    WA      99114.0  2020  CHRYSLER   \n",
       "2  KNDC3DLCXN    Yakima             Yakima    WA      98908.0  2022       KIA   \n",
       "3  5YJ3E1EA0J    Kitsap  Bainbridge Island    WA      98110.0  2018     TESLA   \n",
       "4  1N4AZ1CP7J  Thurston           Tumwater    WA      98501.0  2018    NISSAN   \n",
       "\n",
       "      model                                 ev_type  \\\n",
       "0  PACIFICA  Plug-in Hybrid Electric Vehicle (PHEV)   \n",
       "1  PACIFICA  Plug-in Hybrid Electric Vehicle (PHEV)   \n",
       "2       EV6          Battery Electric Vehicle (BEV)   \n",
       "3   MODEL 3          Battery Electric Vehicle (BEV)   \n",
       "4      LEAF          Battery Electric Vehicle (BEV)   \n",
       "\n",
       "                                    cafv_eligibility  electric_range  \\\n",
       "0            Clean Alternative Fuel Vehicle Eligible              33   \n",
       "1            Clean Alternative Fuel Vehicle Eligible              32   \n",
       "2  Eligibility unknown as battery range has not b...               0   \n",
       "3            Clean Alternative Fuel Vehicle Eligible             215   \n",
       "4            Clean Alternative Fuel Vehicle Eligible             151   \n",
       "\n",
       "   base_msrp   dol_v_id                       v_location  \\\n",
       "0          0  349437882  POINT (-122.6466274 47.6341188)   \n",
       "1          0  154690532     POINT (-117.90431 48.547075)   \n",
       "2          0  219969144  POINT (-120.6027202 46.5965625)   \n",
       "3          0  476786887  POINT (-122.5235781 47.6293323)   \n",
       "4          0  201185253     POINT (-122.89692 47.043535)   \n",
       "\n",
       "         electric_utility  2020_census_tract  \n",
       "0  PUGET SOUND ENERGY INC       5.303509e+10  \n",
       "1             AVISTA CORP       5.306595e+10  \n",
       "2              PACIFICORP       5.307700e+10  \n",
       "3  PUGET SOUND ENERGY INC       5.303509e+10  \n",
       "4  PUGET SOUND ENERGY INC       5.306701e+10  "
      ]
     },
     "execution_count": 24,
     "metadata": {},
     "output_type": "execute_result"
    }
   ],
   "source": [
    "df_ev.head()"
   ]
  },
  {
   "cell_type": "code",
   "execution_count": 26,
   "id": "be6118c1",
   "metadata": {},
   "outputs": [
    {
     "data": {
      "text/html": [
       "<div>\n",
       "<style scoped>\n",
       "    .dataframe tbody tr th:only-of-type {\n",
       "        vertical-align: middle;\n",
       "    }\n",
       "\n",
       "    .dataframe tbody tr th {\n",
       "        vertical-align: top;\n",
       "    }\n",
       "\n",
       "    .dataframe thead th {\n",
       "        text-align: right;\n",
       "    }\n",
       "</style>\n",
       "<table border=\"1\" class=\"dataframe\">\n",
       "  <thead>\n",
       "    <tr style=\"text-align: right;\">\n",
       "      <th></th>\n",
       "      <th>vin</th>\n",
       "      <th>county</th>\n",
       "      <th>city</th>\n",
       "      <th>state</th>\n",
       "      <th>postal_code</th>\n",
       "      <th>year</th>\n",
       "      <th>make</th>\n",
       "      <th>model</th>\n",
       "      <th>ev_type</th>\n",
       "      <th>cafv_eligibility</th>\n",
       "      <th>electric_range</th>\n",
       "      <th>base_msrp</th>\n",
       "      <th>dol_v_id</th>\n",
       "      <th>v_location</th>\n",
       "      <th>electric_utility</th>\n",
       "      <th>2020_census_tract</th>\n",
       "    </tr>\n",
       "  </thead>\n",
       "  <tbody>\n",
       "    <tr>\n",
       "      <th>0</th>\n",
       "      <td>2C4RC1N71H</td>\n",
       "      <td>Kitsap</td>\n",
       "      <td>Bremerton</td>\n",
       "      <td>WA</td>\n",
       "      <td>98311.0</td>\n",
       "      <td>2017</td>\n",
       "      <td>CHRYSLER</td>\n",
       "      <td>PACIFICA</td>\n",
       "      <td>Plug-in Hybrid Electric Vehicle (PHEV)</td>\n",
       "      <td>Clean Alternative Fuel Vehicle Eligible</td>\n",
       "      <td>33</td>\n",
       "      <td>0</td>\n",
       "      <td>349437882</td>\n",
       "      <td>POINT (-122.6466274 47.6341188)</td>\n",
       "      <td>PUGET SOUND ENERGY INC</td>\n",
       "      <td>5.303509e+10</td>\n",
       "    </tr>\n",
       "  </tbody>\n",
       "</table>\n",
       "</div>"
      ],
      "text/plain": [
       "          vin  county       city state  postal_code  year      make     model  \\\n",
       "0  2C4RC1N71H  Kitsap  Bremerton    WA      98311.0  2017  CHRYSLER  PACIFICA   \n",
       "\n",
       "                                  ev_type  \\\n",
       "0  Plug-in Hybrid Electric Vehicle (PHEV)   \n",
       "\n",
       "                          cafv_eligibility  electric_range  base_msrp  \\\n",
       "0  Clean Alternative Fuel Vehicle Eligible              33          0   \n",
       "\n",
       "    dol_v_id                       v_location        electric_utility  \\\n",
       "0  349437882  POINT (-122.6466274 47.6341188)  PUGET SOUND ENERGY INC   \n",
       "\n",
       "   2020_census_tract  \n",
       "0       5.303509e+10  "
      ]
     },
     "execution_count": 26,
     "metadata": {},
     "output_type": "execute_result"
    }
   ],
   "source": [
    "df_ev.head(1)"
   ]
  },
  {
   "cell_type": "code",
   "execution_count": 27,
   "id": "6db87d95",
   "metadata": {},
   "outputs": [
    {
     "data": {
      "text/plain": [
       "2023    45244\n",
       "2022    27680\n",
       "2021    18737\n",
       "2018    14328\n",
       "2020    11394\n",
       "2019    10730\n",
       "2017     8576\n",
       "2016     5604\n",
       "2015     4897\n",
       "2013     4516\n",
       "2014     3561\n",
       "2024     1714\n",
       "2012     1645\n",
       "2011      780\n",
       "2010       24\n",
       "2008       21\n",
       "2000        8\n",
       "1999        3\n",
       "2002        2\n",
       "1998        1\n",
       "1997        1\n",
       "2003        1\n",
       "Name: year, dtype: int64"
      ]
     },
     "execution_count": 27,
     "metadata": {},
     "output_type": "execute_result"
    }
   ],
   "source": [
    "df_ev['year'].value_counts()"
   ]
  },
  {
   "cell_type": "code",
   "execution_count": 28,
   "id": "68d82c04",
   "metadata": {},
   "outputs": [
    {
     "data": {
      "text/plain": [
       "WA    159106\n",
       "CA        95\n",
       "VA        37\n",
       "MD        35\n",
       "TX        22\n",
       "NC        14\n",
       "IL        13\n",
       "CO        13\n",
       "FL         9\n",
       "HI         9\n",
       "OR         9\n",
       "AZ         9\n",
       "NJ         8\n",
       "CT         7\n",
       "SC         7\n",
       "NY         7\n",
       "GA         7\n",
       "NV         6\n",
       "LA         6\n",
       "MO         4\n",
       "DC         3\n",
       "MA         3\n",
       "KY         3\n",
       "PA         3\n",
       "NE         3\n",
       "AL         3\n",
       "IN         2\n",
       "BC         2\n",
       "KS         2\n",
       "ID         2\n",
       "UT         2\n",
       "OH         2\n",
       "AR         2\n",
       "AP         1\n",
       "AE         1\n",
       "OK         1\n",
       "IA         1\n",
       "DE         1\n",
       "MI         1\n",
       "WY         1\n",
       "AK         1\n",
       "MT         1\n",
       "NH         1\n",
       "MS         1\n",
       "MN         1\n",
       "Name: state, dtype: int64"
      ]
     },
     "execution_count": 28,
     "metadata": {},
     "output_type": "execute_result"
    }
   ],
   "source": [
    "df_ev['state'].value_counts()"
   ]
  },
  {
   "cell_type": "code",
   "execution_count": 29,
   "id": "be6afb0b",
   "metadata": {
    "scrolled": true
   },
   "outputs": [
    {
     "data": {
      "text/plain": [
       "vin                  0\n",
       "county               4\n",
       "city                 4\n",
       "state                0\n",
       "postal_code          4\n",
       "year                 0\n",
       "make                 0\n",
       "model                0\n",
       "ev_type              0\n",
       "cafv_eligibility     0\n",
       "electric_range       0\n",
       "base_msrp            0\n",
       "dol_v_id             0\n",
       "v_location           9\n",
       "electric_utility     4\n",
       "2020_census_tract    4\n",
       "dtype: int64"
      ]
     },
     "execution_count": 29,
     "metadata": {},
     "output_type": "execute_result"
    }
   ],
   "source": [
    "# Check for missing values\n",
    "df_ev.isnull().sum()"
   ]
  },
  {
   "cell_type": "code",
   "execution_count": 30,
   "id": "09b15072",
   "metadata": {},
   "outputs": [
    {
     "data": {
      "text/plain": [
       "(159467, 16)"
      ]
     },
     "execution_count": 30,
     "metadata": {},
     "output_type": "execute_result"
    }
   ],
   "source": [
    "df_ev.shape"
   ]
  },
  {
   "cell_type": "code",
   "execution_count": 31,
   "id": "66fff015",
   "metadata": {},
   "outputs": [],
   "source": [
    "# Drop missing values because we are unable to impute the data \n",
    "df_ev.dropna(inplace = True)"
   ]
  },
  {
   "cell_type": "code",
   "execution_count": 32,
   "id": "f110b000",
   "metadata": {
    "scrolled": true
   },
   "outputs": [
    {
     "data": {
      "text/plain": [
       "(159458, 16)"
      ]
     },
     "execution_count": 32,
     "metadata": {},
     "output_type": "execute_result"
    }
   ],
   "source": [
    "df_ev.shape"
   ]
  },
  {
   "cell_type": "code",
   "execution_count": 33,
   "id": "ed716b10",
   "metadata": {},
   "outputs": [],
   "source": [
    "#Get rid of decimal points on postal_code\n",
    "df_ev['postal_code'] = df_ev['postal_code'].astype(int)"
   ]
  },
  {
   "cell_type": "code",
   "execution_count": 35,
   "id": "4147b90c",
   "metadata": {},
   "outputs": [
    {
     "data": {
      "text/html": [
       "<div>\n",
       "<style scoped>\n",
       "    .dataframe tbody tr th:only-of-type {\n",
       "        vertical-align: middle;\n",
       "    }\n",
       "\n",
       "    .dataframe tbody tr th {\n",
       "        vertical-align: top;\n",
       "    }\n",
       "\n",
       "    .dataframe thead th {\n",
       "        text-align: right;\n",
       "    }\n",
       "</style>\n",
       "<table border=\"1\" class=\"dataframe\">\n",
       "  <thead>\n",
       "    <tr style=\"text-align: right;\">\n",
       "      <th></th>\n",
       "      <th>vin</th>\n",
       "      <th>county</th>\n",
       "      <th>city</th>\n",
       "      <th>state</th>\n",
       "      <th>postal_code</th>\n",
       "      <th>year</th>\n",
       "      <th>make</th>\n",
       "      <th>model</th>\n",
       "      <th>ev_type</th>\n",
       "      <th>cafv_eligibility</th>\n",
       "      <th>electric_range</th>\n",
       "      <th>base_msrp</th>\n",
       "      <th>dol_v_id</th>\n",
       "      <th>v_location</th>\n",
       "      <th>electric_utility</th>\n",
       "      <th>2020_census_tract</th>\n",
       "    </tr>\n",
       "  </thead>\n",
       "  <tbody>\n",
       "    <tr>\n",
       "      <th>0</th>\n",
       "      <td>2C4RC1N71H</td>\n",
       "      <td>Kitsap</td>\n",
       "      <td>Bremerton</td>\n",
       "      <td>WA</td>\n",
       "      <td>98311</td>\n",
       "      <td>2017</td>\n",
       "      <td>CHRYSLER</td>\n",
       "      <td>PACIFICA</td>\n",
       "      <td>Plug-in Hybrid Electric Vehicle (PHEV)</td>\n",
       "      <td>Clean Alternative Fuel Vehicle Eligible</td>\n",
       "      <td>33</td>\n",
       "      <td>0</td>\n",
       "      <td>349437882</td>\n",
       "      <td>POINT (-122.6466274 47.6341188)</td>\n",
       "      <td>PUGET SOUND ENERGY INC</td>\n",
       "      <td>5.303509e+10</td>\n",
       "    </tr>\n",
       "  </tbody>\n",
       "</table>\n",
       "</div>"
      ],
      "text/plain": [
       "          vin  county       city state  postal_code  year      make     model  \\\n",
       "0  2C4RC1N71H  Kitsap  Bremerton    WA        98311  2017  CHRYSLER  PACIFICA   \n",
       "\n",
       "                                  ev_type  \\\n",
       "0  Plug-in Hybrid Electric Vehicle (PHEV)   \n",
       "\n",
       "                          cafv_eligibility  electric_range  base_msrp  \\\n",
       "0  Clean Alternative Fuel Vehicle Eligible              33          0   \n",
       "\n",
       "    dol_v_id                       v_location        electric_utility  \\\n",
       "0  349437882  POINT (-122.6466274 47.6341188)  PUGET SOUND ENERGY INC   \n",
       "\n",
       "   2020_census_tract  \n",
       "0       5.303509e+10  "
      ]
     },
     "execution_count": 35,
     "metadata": {},
     "output_type": "execute_result"
    }
   ],
   "source": [
    "#Check output\n",
    "df_ev.head(1)"
   ]
  },
  {
   "cell_type": "code",
   "execution_count": 36,
   "id": "b68ce663",
   "metadata": {},
   "outputs": [],
   "source": [
    "# Check for mixed type columns\n",
    "for col in df_ev.columns.tolist():\n",
    "    weird = (df_ev[[col]].applymap(type) != df_ev[[col]].iloc[0].apply(type)).any(axis=1)\n",
    "    if len (df_ev[weird]) > 0:\n",
    "        print(col)"
   ]
  },
  {
   "cell_type": "code",
   "execution_count": 37,
   "id": "5eeecd27",
   "metadata": {},
   "outputs": [
    {
     "data": {
      "text/plain": [
       "vin                   object\n",
       "county                object\n",
       "city                  object\n",
       "state                 object\n",
       "postal_code            int64\n",
       "year                   int64\n",
       "make                  object\n",
       "model                 object\n",
       "ev_type               object\n",
       "cafv_eligibility      object\n",
       "electric_range         int64\n",
       "base_msrp              int64\n",
       "dol_v_id               int64\n",
       "v_location            object\n",
       "electric_utility      object\n",
       "2020_census_tract    float64\n",
       "dtype: object"
      ]
     },
     "execution_count": 37,
     "metadata": {},
     "output_type": "execute_result"
    }
   ],
   "source": [
    "df_ev.dtypes"
   ]
  },
  {
   "cell_type": "code",
   "execution_count": 38,
   "id": "320f5d29",
   "metadata": {},
   "outputs": [],
   "source": [
    "# Check for duplicates\n",
    "df_ev_dups = df_ev[df_ev.duplicated()]"
   ]
  },
  {
   "cell_type": "code",
   "execution_count": 39,
   "id": "8090a772",
   "metadata": {
    "scrolled": true
   },
   "outputs": [
    {
     "data": {
      "text/html": [
       "<div>\n",
       "<style scoped>\n",
       "    .dataframe tbody tr th:only-of-type {\n",
       "        vertical-align: middle;\n",
       "    }\n",
       "\n",
       "    .dataframe tbody tr th {\n",
       "        vertical-align: top;\n",
       "    }\n",
       "\n",
       "    .dataframe thead th {\n",
       "        text-align: right;\n",
       "    }\n",
       "</style>\n",
       "<table border=\"1\" class=\"dataframe\">\n",
       "  <thead>\n",
       "    <tr style=\"text-align: right;\">\n",
       "      <th></th>\n",
       "      <th>vin</th>\n",
       "      <th>county</th>\n",
       "      <th>city</th>\n",
       "      <th>state</th>\n",
       "      <th>postal_code</th>\n",
       "      <th>year</th>\n",
       "      <th>make</th>\n",
       "      <th>model</th>\n",
       "      <th>ev_type</th>\n",
       "      <th>cafv_eligibility</th>\n",
       "      <th>electric_range</th>\n",
       "      <th>base_msrp</th>\n",
       "      <th>dol_v_id</th>\n",
       "      <th>v_location</th>\n",
       "      <th>electric_utility</th>\n",
       "      <th>2020_census_tract</th>\n",
       "    </tr>\n",
       "  </thead>\n",
       "  <tbody>\n",
       "  </tbody>\n",
       "</table>\n",
       "</div>"
      ],
      "text/plain": [
       "Empty DataFrame\n",
       "Columns: [vin, county, city, state, postal_code, year, make, model, ev_type, cafv_eligibility, electric_range, base_msrp, dol_v_id, v_location, electric_utility, 2020_census_tract]\n",
       "Index: []"
      ]
     },
     "execution_count": 39,
     "metadata": {},
     "output_type": "execute_result"
    }
   ],
   "source": [
    "df_ev_dups"
   ]
  },
  {
   "cell_type": "markdown",
   "id": "fddaea30",
   "metadata": {},
   "source": [
    "## **03. Export dataframe to project folder**"
   ]
  },
  {
   "cell_type": "code",
   "execution_count": 41,
   "id": "853c556a",
   "metadata": {},
   "outputs": [],
   "source": [
    "# Export dataframe\n",
    "df_ev.to_csv('/Users/mitchellkubik/Desktop/12-2023 Final Project Analysis /02 Data/Prepared Data/df_ev_cleaned.csv')"
   ]
  },
  {
   "cell_type": "code",
   "execution_count": null,
   "id": "b81ace7d",
   "metadata": {},
   "outputs": [],
   "source": []
  }
 ],
 "metadata": {
  "kernelspec": {
   "display_name": "Python 3 (ipykernel)",
   "language": "python",
   "name": "python3"
  },
  "language_info": {
   "codemirror_mode": {
    "name": "ipython",
    "version": 3
   },
   "file_extension": ".py",
   "mimetype": "text/x-python",
   "name": "python",
   "nbconvert_exporter": "python",
   "pygments_lexer": "ipython3",
   "version": "3.11.4"
  }
 },
 "nbformat": 4,
 "nbformat_minor": 5
}
